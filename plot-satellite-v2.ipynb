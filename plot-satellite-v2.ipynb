{
 "cells": [
  {
   "cell_type": "code",
   "execution_count": 1,
   "metadata": {},
   "outputs": [],
   "source": [
    "import matplotlib\n",
    "import h5py\n",
    "import numpy as np\n",
    "import matplotlib.pyplot as plt\n",
    "from datetime import datetime\n",
    "import os\n",
    "os.environ['PROJ_LIB'] = r\"C:\\Users\\seonghohan\\anaconda3\\share\\proj\"\n",
    "from mpl_toolkits.basemap import Basemap"
   ]
  },
  {
   "cell_type": "code",
   "execution_count": 2,
   "metadata": {},
   "outputs": [],
   "source": [
    "filenameHEPD = 'HEPD_DIV_20200717_0850_ORB_08795.h5'\n",
    "filenameMEPD = 'MEPD_SCI_20200717_0851_ORB_08795.h5'\n",
    "\n",
    "matplotlib.rcParams['figure.dpi'] = 200\n",
    "plt.style.use('classic')"
   ]
  },
  {
   "cell_type": "markdown",
   "metadata": {},
   "source": [
    "### Custom colormap, new_cmap"
   ]
  },
  {
   "cell_type": "code",
   "execution_count": 4,
   "metadata": {},
   "outputs": [],
   "source": [
    "jet = plt.cm.get_cmap('jet', 256)\n",
    "newcolors = jet(np.linspace(0, 1, 256))\n",
    "white = np.array([256/256, 256/256, 256/256, 1])\n",
    "newcolors[0, :] = white\n",
    "new_cmap = matplotlib.colors.ListedColormap(newcolors)"
   ]
  },
  {
   "cell_type": "code",
   "execution_count": null,
   "metadata": {},
   "outputs": [],
   "source": [
    "def plot_satellite(HEPD, MEPD):\n",
    "    fig, () = plt.subplots(11, 4)\n",
    "    \n",
    "    plt.show()"
   ]
  },
  {
   "cell_type": "code",
   "execution_count": null,
   "metadata": {},
   "outputs": [],
   "source": [
    "plot_satellite(filenameHEPD, filenameMEPD)"
   ]
  }
 ],
 "metadata": {
  "kernelspec": {
   "display_name": "Python 3",
   "language": "python",
   "name": "python3"
  },
  "language_info": {
   "codemirror_mode": {
    "name": "ipython",
    "version": 3
   },
   "file_extension": ".py",
   "mimetype": "text/x-python",
   "name": "python",
   "nbconvert_exporter": "python",
   "pygments_lexer": "ipython3",
   "version": "3.8.5"
  }
 },
 "nbformat": 4,
 "nbformat_minor": 4
}
